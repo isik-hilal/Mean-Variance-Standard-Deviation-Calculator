{
 "cells": [
  {
   "cell_type": "markdown",
   "id": "dfe2a378",
   "metadata": {},
   "source": [
    "Create a function named calculate() in mean_var_std.py that uses Numpy to output the mean, variance, standard deviation, max, min, and sum of the rows, columns, and elements in a 3 x 3 matrix.\n",
    "\n",
    "The input of the function should be a list containing 9 digits. The function should convert the list into a 3 x 3 Numpy array, and then return a dictionary containing the mean, variance, standard deviation, max, min, and sum along both axes and for the flattened matrix.\n",
    "\n",
    "The returned dictionary should follow this format:"
   ]
  },
  {
   "cell_type": "code",
   "execution_count": null,
   "id": "921d1ed3",
   "metadata": {},
   "outputs": [],
   "source": [
    "#{\n",
    "#  'mean': [axis1, axis2, flattened],\n",
    "#  'variance': [axis1, axis2, flattened],\n",
    "#  'standard deviation': [axis1, axis2, flattened],\n",
    "#  'max': [axis1, axis2, flattened],\n",
    "#  'min': [axis1, axis2, flattened],\n",
    "#  'sum': [axis1, axis2, flattened]\n",
    "#}"
   ]
  },
  {
   "cell_type": "code",
   "execution_count": null,
   "id": "f042a3ba",
   "metadata": {},
   "outputs": [],
   "source": []
  }
 ],
 "metadata": {
  "kernelspec": {
   "display_name": "Python 3 (ipykernel)",
   "language": "python",
   "name": "python3"
  },
  "language_info": {
   "codemirror_mode": {
    "name": "ipython",
    "version": 3
   },
   "file_extension": ".py",
   "mimetype": "text/x-python",
   "name": "python",
   "nbconvert_exporter": "python",
   "pygments_lexer": "ipython3",
   "version": "3.9.7"
  }
 },
 "nbformat": 4,
 "nbformat_minor": 5
}
